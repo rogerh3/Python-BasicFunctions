{
 "cells": [
  {
   "cell_type": "code",
   "execution_count": null,
   "id": "2a589f4a",
   "metadata": {},
   "outputs": [],
   "source": [
    "#Udemy - Functions\n",
    "#Roger H Hayden III\n",
    "#2/9/22"
   ]
  },
  {
   "cell_type": "code",
   "execution_count": 1,
   "id": "c54ed7a4",
   "metadata": {},
   "outputs": [
    {
     "data": {
      "text/plain": [
       "range(20, 31)"
      ]
     },
     "execution_count": 1,
     "metadata": {},
     "output_type": "execute_result"
    }
   ],
   "source": [
    "#Returns a generator or iterator\n",
    "range(20,31)"
   ]
  },
  {
   "cell_type": "code",
   "execution_count": 2,
   "id": "8f4a6b85",
   "metadata": {},
   "outputs": [
    {
     "data": {
      "text/plain": [
       "[20, 21, 22, 23, 24, 25, 26, 27, 28, 29, 30]"
      ]
     },
     "execution_count": 2,
     "metadata": {},
     "output_type": "execute_result"
    }
   ],
   "source": [
    "#List will make range return a full list\n",
    "list(range(20,31))"
   ]
  },
  {
   "cell_type": "code",
   "execution_count": 4,
   "id": "62f8c364",
   "metadata": {},
   "outputs": [
    {
     "data": {
      "text/plain": [
       "[20, 21, 22, 23, 24, 25, 26, 27, 28, 29, 30]"
      ]
     },
     "execution_count": 4,
     "metadata": {},
     "output_type": "execute_result"
    }
   ],
   "source": [
    "list1 = list(range(20,31))\n",
    "list1"
   ]
  },
  {
   "cell_type": "code",
   "execution_count": 6,
   "id": "315a580c",
   "metadata": {},
   "outputs": [
    {
     "name": "stdout",
     "output_type": "stream",
     "text": [
      "[20, 21, 22, 23, 24, 25, 26, 27, 28, 29, 30]\n"
     ]
    }
   ],
   "source": [
    "#Proper way of printing in Python\n",
    "print(list1)"
   ]
  },
  {
   "cell_type": "code",
   "execution_count": 7,
   "id": "f26c2f93",
   "metadata": {},
   "outputs": [
    {
     "data": {
      "text/plain": [
       "11"
      ]
     },
     "execution_count": 7,
     "metadata": {},
     "output_type": "execute_result"
    }
   ],
   "source": [
    "#Looking at the length of the list\n",
    "len(list1)"
   ]
  },
  {
   "cell_type": "code",
   "execution_count": 8,
   "id": "ef4159ee",
   "metadata": {},
   "outputs": [
    {
     "data": {
      "text/plain": [
       "list"
      ]
     },
     "execution_count": 8,
     "metadata": {},
     "output_type": "execute_result"
    }
   ],
   "source": [
    "#Type of object\n",
    "type(list1)"
   ]
  },
  {
   "cell_type": "code",
   "execution_count": 9,
   "id": "cb3da37a",
   "metadata": {},
   "outputs": [
    {
     "data": {
      "text/plain": [
       "30"
      ]
     },
     "execution_count": 9,
     "metadata": {},
     "output_type": "execute_result"
    }
   ],
   "source": [
    "#Maximum Value\n",
    "max(list1)"
   ]
  },
  {
   "cell_type": "code",
   "execution_count": 10,
   "id": "0e757f7f",
   "metadata": {},
   "outputs": [
    {
     "data": {
      "text/plain": [
       "20"
      ]
     },
     "execution_count": 10,
     "metadata": {},
     "output_type": "execute_result"
    }
   ],
   "source": [
    "#Minimum Value\n",
    "min(list1)"
   ]
  },
  {
   "cell_type": "code",
   "execution_count": null,
   "id": "4dac061c",
   "metadata": {},
   "outputs": [],
   "source": [
    "#For max and min you can pass a variable that holds a list of values, or the whole list of values."
   ]
  }
 ],
 "metadata": {
  "kernelspec": {
   "display_name": "Python 3 (ipykernel)",
   "language": "python",
   "name": "python3"
  },
  "language_info": {
   "codemirror_mode": {
    "name": "ipython",
    "version": 3
   },
   "file_extension": ".py",
   "mimetype": "text/x-python",
   "name": "python",
   "nbconvert_exporter": "python",
   "pygments_lexer": "ipython3",
   "version": "3.9.7"
  }
 },
 "nbformat": 4,
 "nbformat_minor": 5
}
